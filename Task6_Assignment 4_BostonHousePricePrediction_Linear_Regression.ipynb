{
  "nbformat": 4,
  "nbformat_minor": 0,
  "metadata": {
    "colab": {
      "name": "Task6 - BostonHousePricePrediction - Linear Regression.ipynb",
      "provenance": [],
      "collapsed_sections": []
    },
    "kernelspec": {
      "name": "python3",
      "display_name": "Python 3"
    },
    "language_info": {
      "name": "python"
    }
  },
  "cells": [
    {
      "cell_type": "code",
      "execution_count": 3,
      "metadata": {
        "id": "RCFVQofiUW9Z"
      },
      "outputs": [],
      "source": [
        "from sklearn.linear_model import LinearRegression\n",
        "from sklearn.model_selection import train_test_split\n",
        "import pandas as pd\n",
        "import matplotlib.pyplot as plt\n",
        "import seaborn as sns"
      ]
    },
    {
      "cell_type": "code",
      "source": [
        "boston_data = pd.read_csv(\"./BostonHousing.csv\")\n",
        "boston_data.head()"
      ],
      "metadata": {
        "id": "r_qXLxAXdhRJ"
      },
      "execution_count": null,
      "outputs": []
    },
    {
      "cell_type": "code",
      "source": [
        "# Input or independent value\n",
        "X = boston_data.iloc[:, :13]\n",
        "\n",
        "# Output or dependent value\n",
        "Y = boston_data[\"medv\"]"
      ],
      "metadata": {
        "id": "lfFJrni2d1PH"
      },
      "execution_count": 6,
      "outputs": []
    },
    {
      "cell_type": "code",
      "source": [
        "# Find correlation between all available columns\n",
        "corr = boston_data.corr()\n",
        "# Find correlated data columns using heatmaps\n",
        "sns.heatmap(corr)\n",
        "plt.show()\n",
        "\n",
        "# Columns which are having correlation +ve and above 0.9 are highly correlated to each other\n",
        "# We can drop any of them since it will not impact on output\n",
        "\n",
        "#Right now I am not dropping any column and trying to predict the output with all input data"
      ],
      "metadata": {
        "id": "LrC58Wocd7Y2"
      },
      "execution_count": null,
      "outputs": []
    },
    {
      "cell_type": "code",
      "source": [
        "x_train, x_test, y_train, y_test = train_test_split(X, Y, test_size=.30, random_state=10)"
      ],
      "metadata": {
        "id": "2u2ip-Fues6w"
      },
      "execution_count": 8,
      "outputs": []
    },
    {
      "cell_type": "code",
      "source": [
        "# model instantiation\n",
        "linear_model = LinearRegression()\n",
        "\n",
        "# fit the model with input and corresponding output data\n",
        "linear_model.fit(x_train, y_train)"
      ],
      "metadata": {
        "id": "lqv4zKVgfajk"
      },
      "execution_count": null,
      "outputs": []
    },
    {
      "cell_type": "code",
      "source": [
        "predicted_house_price = linear_model.predict(x_test)\n",
        "print(\"Predicted House Prices\")\n",
        "print(predicted_house_price)"
      ],
      "metadata": {
        "id": "qZVJP7I9fdcV"
      },
      "execution_count": null,
      "outputs": []
    },
    {
      "cell_type": "code",
      "source": [
        "predicted_dataframe = pd.DataFrame(\n",
        "    {\"Predicted_Prices\": predicted_house_price, \"Actual_Prices\": y_test})\n",
        "print(\"Predicted and Actual Price Data frame\")\n",
        "print(predicted_dataframe)"
      ],
      "metadata": {
        "id": "tnaoUBLPfhLp"
      },
      "execution_count": null,
      "outputs": []
    },
    {
      "cell_type": "code",
      "source": [
        "plt.scatter(y_test, predicted_house_price, color='black')\n",
        "plt.show()"
      ],
      "metadata": {
        "id": "-OUJx4RZf8wi"
      },
      "execution_count": null,
      "outputs": []
    }
  ]
}