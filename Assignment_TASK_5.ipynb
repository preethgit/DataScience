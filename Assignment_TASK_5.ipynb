{
  "nbformat": 4,
  "nbformat_minor": 0,
  "metadata": {
    "colab": {
      "name": "Assignment - TASK 5.ipynb",
      "provenance": [],
      "collapsed_sections": []
    },
    "kernelspec": {
      "name": "python3",
      "display_name": "Python 3"
    },
    "language_info": {
      "name": "python"
    }
  },
  "cells": [
    {
      "cell_type": "markdown",
      "source": [
        "The  data  is  available  as  two  attached  CSV  files:\n",
        "takehome_user_engagement. csv\n",
        "takehome_users . csv\n",
        "The  data  has  the  following  two  tables:\n",
        "1]  A  user  table  ( \"takehome_users\" )  with  data  on  12,000  users  who  signed  up  for  the\n",
        "product  in  the  last  two  years.   This  table  includes:\n",
        "● name:  the  user's  name\n",
        "● object_id:   the  user's  id\n",
        "● email:  email  address\n",
        "● creation_source:   how  their  account  was  created.  This  takes  on  one\n",
        "of  5  values:\n",
        "○ PERSONAL_PROJECTS:  invited  to  join  another  user's\n",
        "personal  workspace\n",
        "○ GUEST_INVITE:  invited  to  an  organization  as  a  guest\n",
        "(limited  permissions)\n",
        "○ ORG_INVITE:  invited  to  an  organization  (as  a  full  member)\n",
        "○ SIGNUP:  signed  up  via  the  website\n",
        "○ SIGNUP_GOOGLE_AUTH:  signed  up  using  Google\n",
        "Authentication  (using  a  Google  email  account  for  their  login\n",
        "id)\n",
        "● creation_time:  when  they  created  their  account\n",
        "● last_session_creation_time:   unix  timestamp  of  last  login\n",
        "● opted_in_to_mailing_list:  whether  they  have  opted  into  receiving\n",
        "marketing  emails\n",
        "● enabled_for_marketing_drip:  whether  they  are  on  the  regular\n",
        "marketing  email  drip\n",
        "● org_id:   the  organization  (group  of  users)  they  belong  to\n",
        "● invited_by_user_id:   which  user  invited  them  to  join  (if  applicable).\n",
        "2]  A  usage  summary  table  ( \"takehome_user_engagement\" )  that  has  a  row  for  each  day\n",
        "that  a  user  logged  into  the  product.\n",
        "Defining  an  \"adopted  user\"   as  a  user  who   has  logged  into  the  product  on  three  separate\n",
        "days  in  at  least  one  seven­day  period ,  identify  which  factors  predict  future  user\n",
        "adoption .\n",
        "We  suggest  spending  1­-2  hours  on  this,  but  you're  welcome  to  spend  more  or  less.\n",
        "Please  send  us  a  brief  writeup  of  your  findings  (the  more  concise,  the  better  ­­  no  more\n",
        "than  one  page),  along  with  any  summary  tables,  graphs,  code,  or  queries  that  can  help\n",
        "us  understand  your  approach.  Please  note  any  factors  you  considered  or  investigation\n",
        "you  did,  even  if  they  did  not  pan  out.  Feel  free  to  identify  any  further  research  or  data\n",
        "you  think  would  be  valuable."
      ],
      "metadata": {
        "id": "l4BJgoruSjSw"
      }
    },
    {
      "cell_type": "code",
      "source": [
        "#Problem Statement of this task is to identify which factor(s) predict the future user adoption"
      ],
      "metadata": {
        "id": "5w1iLF1RSomS"
      },
      "execution_count": 37,
      "outputs": []
    },
    {
      "cell_type": "code",
      "source": [
        "import pandas as pd\n",
        "from pandas import DataFrame, Series\n",
        "import numpy as np\n",
        "import matplotlib.pyplot as plt\n",
        "import time\n",
        "# Read the data from the dataset files given\n",
        "activity = pd.read_csv('takehome_user_engagement.csv')\n",
        "users = pd.read_csv('takehome_users.csv', encoding='latin-1')\n",
        "#users"
      ],
      "metadata": {
        "id": "oU1d-Tc-dmid"
      },
      "execution_count": 38,
      "outputs": []
    },
    {
      "cell_type": "code",
      "source": [
        "# Converting timestamp\n",
        "activity['time_stampnew'] = pd.to_datetime(activity['time_stamp'])\n",
        "#activity\n"
      ],
      "metadata": {
        "id": "pbhG0FuifX3d"
      },
      "execution_count": 39,
      "outputs": []
    },
    {
      "cell_type": "code",
      "source": [
        "# keeping users who have logged at least 3 days\n",
        "def keep_repeat_users(df, visited=3):\n",
        "\tnew_df = df.groupby('user_id').filter(lambda x: len(x) >= visited)\n",
        "\treturn new_df\n",
        "\n",
        "repeated_users_df = keep_repeat_users(activity)\n",
        "#repeated_users_df"
      ],
      "metadata": {
        "id": "nlTpWyZpcQfm"
      },
      "execution_count": 40,
      "outputs": []
    },
    {
      "cell_type": "code",
      "source": [
        "# now, we shall split the above df data by user_id\n",
        "grouped_users_df = repeated_users_df.groupby('user_id')\n",
        "#grouped_users_df"
      ],
      "metadata": {
        "id": "njeoK4WuehbC"
      },
      "execution_count": 41,
      "outputs": []
    },
    {
      "cell_type": "code",
      "source": [
        "#We shall use a function to see if any user is logged in during 3 separate days in a 7 day period\n",
        "\n",
        "def active_users(period, days_logged, user):\n",
        "\tvisited = len(user.index) #get the number of times the user logged in\n",
        "\ti, count = 0, 1\n",
        "\tactive_user = False\n",
        "\n",
        "\twhile count < days_logged:\n",
        "\t\tif (i+2) < visited: \n",
        "\t\t\tif (user['time_stampnew'].iloc[i + 1] - user['time_stampnew'].iloc[i]) <= pd.Timedelta(days=period) and (user['time_stampnew'].iloc[i + 1] - user['time_stampnew'].iloc[i]) > pd.Timedelta(days=1) :\n",
        "\t\t\t\tcount += 1 \n",
        "\t\t\t\tnew_timeframe = (user['time_stampnew'].iloc[i + 1] - user['time_stampnew'].iloc[i])\n",
        "\t\t\t\tif (user['time_stampnew'].iloc[i + 2] - user['time_stampnew'].iloc[i + 1]) <= new_timeframe and (user['time_stampnew'].iloc[i + 2] - user['time_stampnew'].iloc[i + 1]) > pd.Timedelta(days=1):\n",
        "\t\t\t\t\tactive_user = True\n",
        "\t\t\t\t\tcount += 1\n",
        "\t\t\t\telse: \n",
        "\t\t\t\t\ti += 1\n",
        "\t\t\t\t\tcount = 1\n",
        "\t\t\telse:\n",
        "\t\t\t\ti += 1\n",
        "\t\t\t\tcount = 1\n",
        "\t\telse:\n",
        "\t\t\tcount = days_logged\n",
        "\treturn active_user\n",
        "\n",
        "def keep_active_users(df):\n",
        "\tactive_userzz = df.filter(lambda x: active_users(period=7, days_logged=3, user=x) ==True)\n",
        "\n",
        "\tunique_active_users = DataFrame(Series.unique(active_userzz['user_id']))\n",
        "\tunique_active_users.columns = ['user_id']\n",
        "\n",
        "\treturn unique_active_users\n",
        "\n",
        "\n",
        "unique_active_users_df = keep_active_users(grouped_users_df)\n",
        "#print(unique_active_users_df) # 1615 users\n",
        "\n",
        "# Creating an indicator variable if they are an adopted user or not\n",
        "unique_active_users_df['adopted_user'] = 1"
      ],
      "metadata": {
        "id": "vq2xMlAFe1zp"
      },
      "execution_count": 42,
      "outputs": []
    },
    {
      "cell_type": "code",
      "source": [
        "# Merging adopted user dataframe with that of the original\n",
        "adopted_user_info = pd.merge(unique_active_users_df, users, how='outer',\n",
        "                  left_on='user_id', right_on='object_id')\n",
        "\n",
        "# Filling non-adopted users in the above df with 0\n",
        "adopted_user_info['adopted_user'] = adopted_user_info['adopted_user'].fillna(0)\n",
        "\n",
        "len(adopted_user_info) # result of this should be 12000\n"
      ],
      "metadata": {
        "colab": {
          "base_uri": "https://localhost:8080/"
        },
        "id": "VHx84MEhh--I",
        "outputId": "7a00db70-bf5d-4da2-867b-8b6fe885e986"
      },
      "execution_count": 43,
      "outputs": [
        {
          "output_type": "execute_result",
          "data": {
            "text/plain": [
              "12000"
            ]
          },
          "metadata": {},
          "execution_count": 43
        }
      ]
    },
    {
      "cell_type": "code",
      "source": [
        "temp = adopted_user_info\n",
        "temp['creation_time_utc'] = pd.to_datetime(temp['creation_time'], utc=1)\n",
        "temp['creation_time_unix'] = temp['creation_time_utc'].astype(np.int64) // 10 ** 9\n",
        "# Time from account creation to last login\n",
        "temp['creation_delta'] = temp['last_session_creation_time'] - temp['creation_time_unix']\n",
        "# Time from account creation to today\n",
        "temp['lifespan_delta'] = int(time.time()) - temp['creation_time_unix']\n",
        "# Time from last login to today\n",
        "temp['last_login_delta'] = int(time.time()) - temp['last_session_creation_time']\n",
        "temp.to_csv('adopted_users.csv')"
      ],
      "metadata": {
        "colab": {
          "base_uri": "https://localhost:8080/"
        },
        "id": "Td3t_6rHi1_n",
        "outputId": "a99d55e0-e28c-4aa0-b4fa-1e9ea3448e6b"
      },
      "execution_count": 44,
      "outputs": [
        {
          "output_type": "stream",
          "name": "stderr",
          "text": [
            "/usr/local/lib/python3.7/dist-packages/ipykernel_launcher.py:3: FutureWarning: casting datetime64[ns, UTC] values to int64 with .astype(...) is deprecated and will raise in a future version. Use .view(...) instead.\n",
            "  This is separate from the ipykernel package so we can avoid doing imports until\n"
          ]
        }
      ]
    },
    {
      "cell_type": "code",
      "source": [
        "df=pd.read_csv('adopted_users.csv')\n",
        "df.describe()"
      ],
      "metadata": {
        "id": "dQ28QQkkk3tR"
      },
      "execution_count": null,
      "outputs": []
    },
    {
      "cell_type": "markdown",
      "source": [
        "In this analysis, I have analyzed 12,000 users and out of the total users, 1,656 users became adopted users, which is 13.8% of the total users. The rest, non-adopted users, can be separated into two groups, never visited and visited but not adopted, which are 26.5% and 59.7% respectively. For never visited users, we should attract them to visit for the first time and for visited but not adopted users, we should improve their experience to increase adoption."
      ],
      "metadata": {
        "id": "Co1Nq5QL-FoC"
      }
    },
    {
      "cell_type": "markdown",
      "source": [
        "By analyzing and preprocessing the data, I have feature engineered 5 new variables to predict adoption, which are email_domain (The domain from the email address), adopted_refer (whether the user is referred by adopted user), same_org (whether the user and the person referred are in the same organization), org_size (the size of the organization) and org_adopt_pct (percentage of the people in the organization are adopted users).\n",
        "\n",
        "As we can see, the data set is highly imbalanced, which means we have much more non-adopted users than adopted users. If the imbalanced data is directly used, the model would tend to predict non-adopted users to achieved higher accuracy but lose the ability to identify potential adopted users. Therefore, I choose the under sampling method to combat the imbalance issue and leverage the state of art machine learning technology to build the prediction model. The evaluation metric is set to be AUC rather than accuracy due to the goal and imbalanced data set.\n",
        "\n",
        "First of all, Organization adoption rate plays a very critical role in adoption. Second, the size of the organization is also very important in adoption. The small size companies tend to have higher adoption rate than the larger companies. For referral, if the user is referred by adopted users, the person is more likely to become adopted user in the future.\n",
        "\n",
        "I conclude by saying, most of the adopted users are from a relatively small organization with high adoption rate in the organization and referred by adopted user; meanwhile, users from certain email domains have lower adoption rate than others. Overall, the adoption rate in the organization plays the most important role in determining whether the new users will adopt in the future."
      ],
      "metadata": {
        "id": "7SYRLSoS-Xjy"
      }
    }
  ]
}